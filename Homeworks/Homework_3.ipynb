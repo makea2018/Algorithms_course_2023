{
 "cells": [
  {
   "cell_type": "markdown",
   "metadata": {},
   "source": [
    "# Домашнее задание - Лекция №3"
   ]
  },
  {
   "cell_type": "markdown",
   "metadata": {},
   "source": [
    "## Задача A. Мы запрещаем три единицы"
   ]
  },
  {
   "cell_type": "markdown",
   "metadata": {},
   "source": [
    "![Условие задачи A](../Images_root/Homeworks/Homework_3/1.png)"
   ]
  },
  {
   "cell_type": "markdown",
   "metadata": {},
   "source": [
    "Решение:"
   ]
  },
  {
   "cell_type": "code",
   "execution_count": 1,
   "metadata": {},
   "outputs": [],
   "source": [
    "# O(N)\n",
    "def Task_A(n: int):\n",
    "    dp = [0] * (n + 1)\n",
    "    dp[0] = 1\n",
    "    dp[1] = 2\n",
    "    dp[2] = 4\n",
    "    \n",
    "    for i in range(3, n + 1):\n",
    "        dp[i] = dp[i - 1] + dp[i - 2] + dp[i - 3]\n",
    "\n",
    "    return dp[n]  "
   ]
  },
  {
   "cell_type": "markdown",
   "metadata": {},
   "source": [
    "Проверка решения:"
   ]
  },
  {
   "cell_type": "code",
   "execution_count": 5,
   "metadata": {},
   "outputs": [
    {
     "data": {
      "text/plain": [
       "13"
      ]
     },
     "execution_count": 5,
     "metadata": {},
     "output_type": "execute_result"
    }
   ],
   "source": [
    "n = 4\n",
    "Task_A(n)"
   ]
  },
  {
   "cell_type": "markdown",
   "metadata": {},
   "source": [
    "## Задача B. Мамин плотник"
   ]
  },
  {
   "cell_type": "markdown",
   "metadata": {},
   "source": [
    "![Условие задачи B](../Images_root/Homeworks/Homework_3/2.png)"
   ]
  },
  {
   "cell_type": "markdown",
   "metadata": {},
   "source": [
    "Решение:"
   ]
  },
  {
   "cell_type": "code",
   "execution_count": 20,
   "metadata": {},
   "outputs": [],
   "source": [
    "# O(NlogN)\n",
    "def Task_B(n: int, coords: list):\n",
    "    # Сортируем массив по возрастанию\n",
    "    coords = sorted(coords)\n",
    "\n",
    "    # Создаем динамический массив\n",
    "    dp = [0] * n # Минимальная сумма ниток для связи i гвоздей\n",
    "    for i in range(1, n):\n",
    "        if i > 2:\n",
    "            dp[i] = min(dp[i-1], dp[i-2]) + coords[i] - coords[i - 1]\n",
    "        else:\n",
    "            dp[i] = dp[i - 1] + coords[i] - coords[i - 1]   \n",
    "    return dp[-1]"
   ]
  },
  {
   "cell_type": "markdown",
   "metadata": {},
   "source": [
    "Проверка решения:"
   ]
  },
  {
   "cell_type": "code",
   "execution_count": 21,
   "metadata": {},
   "outputs": [
    {
     "data": {
      "text/plain": [
       "6"
      ]
     },
     "execution_count": 21,
     "metadata": {},
     "output_type": "execute_result"
    }
   ],
   "source": [
    "n = 5\n",
    "coords = [4, 10, 0, 12, 2]\n",
    "Task_B(n, coords)"
   ]
  },
  {
   "cell_type": "code",
   "execution_count": 22,
   "metadata": {},
   "outputs": [
    {
     "data": {
      "text/plain": [
       "5"
      ]
     },
     "execution_count": 22,
     "metadata": {},
     "output_type": "execute_result"
    }
   ],
   "source": [
    "n = 6\n",
    "coords = [3, 4, 6, 12, 13, 14]\n",
    "Task_B(n, coords)"
   ]
  },
  {
   "cell_type": "markdown",
   "metadata": {},
   "source": [
    "## Задача C. Полет нормальный"
   ]
  },
  {
   "cell_type": "markdown",
   "metadata": {},
   "source": [
    "![Условие задачи C](../Images_root/Homeworks/Homework_3/3.png)"
   ]
  },
  {
   "cell_type": "markdown",
   "metadata": {},
   "source": [
    "Решение:"
   ]
  },
  {
   "cell_type": "code",
   "execution_count": 13,
   "metadata": {},
   "outputs": [],
   "source": [
    "# O(N)\n",
    "def Task_C(N: int, A: list, B: list, C: list) -> int:\n",
    "    # Динамический массив, который хранит минимальное время для i-го кол-ва человек (для 1-го, двух и т.д.)\n",
    "    dp = [0] * (N + 1)\n",
    "    # Создаем начальные условия\n",
    "    dp[1] = A[1]\n",
    "    dp[2] = min(A[1] + A[2], B[1])\n",
    "\n",
    "    for i in range(3, N + 1):\n",
    "        dp[i] = min(dp[i - 1] + A[i], dp[i - 2] + B[i - 1], dp[i - 3] + C[i - 2])\n",
    "\n",
    "    return dp[N]"
   ]
  },
  {
   "cell_type": "markdown",
   "metadata": {},
   "source": [
    "Проверка решения:"
   ]
  },
  {
   "cell_type": "code",
   "execution_count": 14,
   "metadata": {},
   "outputs": [
    {
     "data": {
      "text/plain": [
       "12"
      ]
     },
     "execution_count": 14,
     "metadata": {},
     "output_type": "execute_result"
    }
   ],
   "source": [
    "N = 5\n",
    "A = [0, 5, 2, 5, 20, 20]\n",
    "B = [0, 10, 10, 5, 20, 1]\n",
    "C = [0, 15, 15, 5, 1, 1]\n",
    "\n",
    "Task_C(N, A, B, C)"
   ]
  },
  {
   "cell_type": "markdown",
   "metadata": {},
   "source": [
    "## Задача D. Подожди дожди"
   ]
  },
  {
   "cell_type": "markdown",
   "metadata": {},
   "source": [
    "![Условие задачи D](../Images_root/Homeworks/Homework_3/4.png)"
   ]
  },
  {
   "cell_type": "markdown",
   "metadata": {},
   "source": [
    "Решение №1:"
   ]
  },
  {
   "cell_type": "code",
   "execution_count": 29,
   "metadata": {},
   "outputs": [],
   "source": [
    "# O(N^2)\n",
    "def Task_D_1(N: int, K: int, rainfalls: list) -> int:\n",
    "    max_sum = 0\n",
    "    \n",
    "    for i in range(N):\n",
    "        for j in range(i + K, N):\n",
    "            max_sum = max(rainfalls[i] + rainfalls[j], max_sum)\n",
    "\n",
    "    return max_sum"
   ]
  },
  {
   "cell_type": "markdown",
   "metadata": {},
   "source": [
    "Решение №2 (Через Дин. программирование):"
   ]
  },
  {
   "cell_type": "code",
   "execution_count": 37,
   "metadata": {},
   "outputs": [],
   "source": [
    "# O(N)\n",
    "def Task_D_2(N: int, K: int, rainfalls: list) -> int:\n",
    "    max_sum = 0\n",
    "\n",
    "    # Заполним массив максимальными значениями до i-го числа\n",
    "    max_prev = [0] * N\n",
    "    prev = 0\n",
    "    for i in range(N):\n",
    "        if rainfalls[i] > prev:\n",
    "            prev = rainfalls[i]\n",
    "        \n",
    "        max_prev[i] = prev\n",
    "\n",
    "    # Решим задачу, используя данные из макс. числа для i-ой позиции каждого элемента\n",
    "    max_sum = 0\n",
    "\n",
    "    for i in range(K, N):\n",
    "        max_sum = max(rainfalls[i] + max_prev[i - K], max_sum)\n",
    "    return max_sum"
   ]
  },
  {
   "cell_type": "markdown",
   "metadata": {},
   "source": [
    "Проверка решения №1:"
   ]
  },
  {
   "cell_type": "code",
   "execution_count": 30,
   "metadata": {},
   "outputs": [
    {
     "data": {
      "text/plain": [
       "45"
      ]
     },
     "execution_count": 30,
     "metadata": {},
     "output_type": "execute_result"
    }
   ],
   "source": [
    "N, K = 5, 3\n",
    "rainfalls = [15, 10, 200, 0, 30]\n",
    "\n",
    "Task_D_1(N, K, rainfalls)"
   ]
  },
  {
   "cell_type": "markdown",
   "metadata": {},
   "source": [
    "Проверка решения №2 (Через Дин. программирование):"
   ]
  },
  {
   "cell_type": "code",
   "execution_count": 39,
   "metadata": {},
   "outputs": [
    {
     "data": {
      "text/plain": [
       "45"
      ]
     },
     "execution_count": 39,
     "metadata": {},
     "output_type": "execute_result"
    }
   ],
   "source": [
    "N, K = 5, 3\n",
    "rainfalls = [15, 10, 200, 0, 30]\n",
    "\n",
    "Task_D_2(N, K, rainfalls)"
   ]
  },
  {
   "cell_type": "markdown",
   "metadata": {},
   "source": [
    "## Задача E. Снова летим?"
   ]
  },
  {
   "cell_type": "markdown",
   "metadata": {},
   "source": [
    "![Условие задачи E](../Images_root/Homeworks/Homework_3/5.png)"
   ]
  },
  {
   "cell_type": "markdown",
   "metadata": {},
   "source": [
    "Решение:"
   ]
  },
  {
   "cell_type": "code",
   "execution_count": 29,
   "metadata": {},
   "outputs": [],
   "source": [
    "# O(N)\n",
    "def Task_E(days: list, sums: int) -> int:\n",
    "    # Динамический массив, в котором храним минимальные стоимости для i-го кол-ва дней\n",
    "    # (1 день, 2 дня... 7 дней и т.д.)\n",
    "    dp = [0] * 366\n",
    "\n",
    "    for i in range(1, 366):\n",
    "        if i not in days:\n",
    "            dp[i] = dp[i - 1]\n",
    "        else:\n",
    "            dp[i] = min(dp[i - 1] + sums[1], dp[max(0, i - 7)] + sums[2], dp[max(0, i - 30)] + sums[3])\n",
    "\n",
    "    return dp[365]"
   ]
  },
  {
   "cell_type": "markdown",
   "metadata": {},
   "source": [
    "Проверка решения:"
   ]
  },
  {
   "cell_type": "code",
   "execution_count": 30,
   "metadata": {},
   "outputs": [
    {
     "data": {
      "text/plain": [
       "11"
      ]
     },
     "execution_count": 30,
     "metadata": {},
     "output_type": "execute_result"
    }
   ],
   "source": [
    "days = [1, 4, 6, 7, 8, 20]\n",
    "sums = [0, 2, 7, 15]\n",
    "\n",
    "Task_E(days, sums)"
   ]
  }
 ],
 "metadata": {
  "kernelspec": {
   "display_name": "Python 3",
   "language": "python",
   "name": "python3"
  },
  "language_info": {
   "codemirror_mode": {
    "name": "ipython",
    "version": 3
   },
   "file_extension": ".py",
   "mimetype": "text/x-python",
   "name": "python",
   "nbconvert_exporter": "python",
   "pygments_lexer": "ipython3",
   "version": "3.10.5"
  }
 },
 "nbformat": 4,
 "nbformat_minor": 2
}
