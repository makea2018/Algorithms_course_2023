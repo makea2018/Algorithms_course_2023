{
 "cells": [
  {
   "cell_type": "markdown",
   "metadata": {},
   "source": [
    "# Домашнее задание - Лекция №2"
   ]
  },
  {
   "cell_type": "markdown",
   "metadata": {},
   "source": [
    "## Задача A. Минимальное кол-во операций, чтобы сделать массив возрастающим"
   ]
  },
  {
   "cell_type": "markdown",
   "metadata": {},
   "source": [
    "![Условие задачи A](../Images_root/Homeworks/Homework_2/1.png)"
   ]
  },
  {
   "cell_type": "markdown",
   "metadata": {},
   "source": [
    "Решение:"
   ]
  },
  {
   "cell_type": "code",
   "execution_count": 15,
   "metadata": {},
   "outputs": [],
   "source": [
    "# O(N)\n",
    "def Task_A(arr: list):\n",
    "    count = 0\n",
    "\n",
    "    for i in range(len(arr)):\n",
    "        if i != len(arr) - 1:\n",
    "            if arr[i] >= arr[i+1]:\n",
    "                oper = arr[i] - arr[i+1] + 1\n",
    "                arr[i+1] += oper\n",
    "                count += oper\n",
    "    return count"
   ]
  },
  {
   "cell_type": "markdown",
   "metadata": {},
   "source": [
    "Проверка решения:"
   ]
  },
  {
   "cell_type": "code",
   "execution_count": 16,
   "metadata": {},
   "outputs": [
    {
     "data": {
      "text/plain": [
       "14"
      ]
     },
     "execution_count": 16,
     "metadata": {},
     "output_type": "execute_result"
    }
   ],
   "source": [
    "arr = [1, 5, 2, 4, 1]\n",
    "Task_A(arr)"
   ]
  },
  {
   "cell_type": "markdown",
   "metadata": {},
   "source": [
    "## Задача B. Распродажа для хомяков"
   ]
  },
  {
   "cell_type": "markdown",
   "metadata": {},
   "source": [
    "![Условие задачи B](../Images_root/Homeworks/Homework_2/2.png)"
   ]
  },
  {
   "cell_type": "markdown",
   "metadata": {},
   "source": [
    "Решение:"
   ]
  },
  {
   "cell_type": "code",
   "execution_count": 56,
   "metadata": {},
   "outputs": [],
   "source": [
    "from math import ceil\n",
    "\n",
    "# O(N*logN)\n",
    "def Task_B(N: int, arr: list):\n",
    "    total = sum(x for x in arr if x <= 50)\n",
    "    prices = sorted([x for x in arr if x> 50])\n",
    "    N = len(prices)\n",
    "    total += sum(prices[:N // 2]) * 0.75 + sum(prices[N // 2:])\n",
    "    return ceil(total) , prices[N // 2 - 1]"
   ]
  },
  {
   "cell_type": "markdown",
   "metadata": {},
   "source": [
    "Проверка решения:"
   ]
  },
  {
   "cell_type": "code",
   "execution_count": 57,
   "metadata": {},
   "outputs": [
    {
     "data": {
      "text/plain": [
       "(1277, 144)"
      ]
     },
     "execution_count": 57,
     "metadata": {},
     "output_type": "execute_result"
    }
   ],
   "source": [
    "N = 6\n",
    "arr = [125, 50, 490, 215, 144, 320]\n",
    "\n",
    "Task_B(N, arr)\n"
   ]
  },
  {
   "cell_type": "markdown",
   "metadata": {},
   "source": [
    "## Задача C. Партия грузов"
   ]
  },
  {
   "cell_type": "markdown",
   "metadata": {},
   "source": [
    "![Условие задачи C](../Images_root/Homeworks/Homework_2/3.png)"
   ]
  },
  {
   "cell_type": "markdown",
   "metadata": {},
   "source": [
    "Решение:"
   ]
  },
  {
   "cell_type": "code",
   "execution_count": 97,
   "metadata": {},
   "outputs": [],
   "source": [
    "# O(N)\n",
    "def Task_C(N: int, M: int, arr: list) -> tuple:\n",
    "    # Кол-во грузов (count) и Тоннаж (T)\n",
    "    count = 0\n",
    "    T = 0\n",
    "\n",
    "    # Сначала берем грузы от 210 до 220\n",
    "    need_cargo = [i for i in arr if 210 < i < 220]\n",
    "    count += len(need_cargo)\n",
    "    T += sum(need_cargo)\n",
    "\n",
    "    # Остаток грузовместимости\n",
    "    M -= T\n",
    "    # Отсортируем оставшиеся грузы по убыванию\n",
    "    arr = sorted([i for i in arr if i not in need_cargo], reverse=True)\n",
    "\n",
    "    # Обновим N\n",
    "    N = len(arr)\n",
    "\n",
    "    for i in range(N):\n",
    "        if i == len(arr) - 1:\n",
    "            if M - arr[i] >= 0:\n",
    "                M -= arr[i]\n",
    "                T += arr[i]\n",
    "                count += 1\n",
    "        else:\n",
    "            if M - arr[i] >= min(arr):\n",
    "                M -= arr[i]\n",
    "                T += arr[i]\n",
    "                count += 1\n",
    "    \n",
    "    return (count, T)"
   ]
  },
  {
   "cell_type": "markdown",
   "metadata": {},
   "source": [
    "Проверка решения:"
   ]
  },
  {
   "cell_type": "code",
   "execution_count": 98,
   "metadata": {},
   "outputs": [
    {
     "data": {
      "text/plain": [
       "(4, 615)"
      ]
     },
     "execution_count": 98,
     "metadata": {},
     "output_type": "execute_result"
    }
   ],
   "source": [
    "N = 6\n",
    "M = 615\n",
    "arr = [140, 215, 120, 160, 100, 340]\n",
    "\n",
    "Task_C(N, M, arr)"
   ]
  },
  {
   "cell_type": "markdown",
   "metadata": {},
   "source": [
    "## Задача D. SOS"
   ]
  },
  {
   "cell_type": "markdown",
   "metadata": {},
   "source": [
    "![Условие задачи E](../Images_root/Homeworks/Homework_2/5.png)"
   ]
  },
  {
   "cell_type": "markdown",
   "metadata": {},
   "source": [
    "Решение:"
   ]
  },
  {
   "cell_type": "code",
   "execution_count": 29,
   "metadata": {},
   "outputs": [],
   "source": [
    "# O(N)\n",
    "def Task_D(M: list, T: int) -> int:\n",
    "    # Отсортируем массив\n",
    "    M = sorted(M)\n",
    "    \n",
    "    # Кол-во лодок\n",
    "    count = 0\n",
    "\n",
    "    l, r = 0, len(M) - 1\n",
    "\n",
    "    while l < r:\n",
    "        if M[l] + M[r] <= T:\n",
    "            l += 1\n",
    "            r -= 1\n",
    "        else:\n",
    "            r -= 1\n",
    "        count += 1\n",
    "    if l == r:\n",
    "        count += 1\n",
    "\n",
    "    return count"
   ]
  },
  {
   "cell_type": "markdown",
   "metadata": {},
   "source": [
    "Проверка решения:"
   ]
  },
  {
   "cell_type": "code",
   "execution_count": 30,
   "metadata": {},
   "outputs": [
    {
     "data": {
      "text/plain": [
       "4"
      ]
     },
     "execution_count": 30,
     "metadata": {},
     "output_type": "execute_result"
    }
   ],
   "source": [
    "# Массы людей\n",
    "M = [3, 5, 3, 4]\n",
    "\n",
    "# Грузоподъемность лодки (Тоннаж)\n",
    "T = 5\n",
    "\n",
    "Task_D(M, T)"
   ]
  }
 ],
 "metadata": {
  "kernelspec": {
   "display_name": "Python 3",
   "language": "python",
   "name": "python3"
  },
  "language_info": {
   "codemirror_mode": {
    "name": "ipython",
    "version": 3
   },
   "file_extension": ".py",
   "mimetype": "text/x-python",
   "name": "python",
   "nbconvert_exporter": "python",
   "pygments_lexer": "ipython3",
   "version": "3.10.5"
  }
 },
 "nbformat": 4,
 "nbformat_minor": 2
}
