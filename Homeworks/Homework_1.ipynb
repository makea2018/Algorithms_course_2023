{
 "cells": [
  {
   "cell_type": "markdown",
   "metadata": {},
   "source": [
    "# Домашнее задание - Лекция №1"
   ]
  },
  {
   "cell_type": "markdown",
   "metadata": {},
   "source": [
    "## Задача A. Наименьший положительный"
   ]
  },
  {
   "cell_type": "markdown",
   "metadata": {},
   "source": [
    "![Условие задачи A](../Images_root/Homeworks/Homework_1/1.png)"
   ]
  },
  {
   "cell_type": "markdown",
   "metadata": {},
   "source": [
    "Решение:"
   ]
  },
  {
   "cell_type": "code",
   "execution_count": 6,
   "metadata": {},
   "outputs": [],
   "source": [
    "# O(N)\n",
    "def Task_A(li: list):\n",
    "    min_pos_el = float('inf')\n",
    "\n",
    "    for i in range(len(li)):\n",
    "        if li[i] > 0:\n",
    "            min_pos_el = min(min_pos_el, li[i])\n",
    "    \n",
    "    return min_pos_el"
   ]
  },
  {
   "cell_type": "markdown",
   "metadata": {},
   "source": [
    "Проверка решения:"
   ]
  },
  {
   "cell_type": "code",
   "execution_count": 5,
   "metadata": {},
   "outputs": [
    {
     "name": "stdout",
     "output_type": "stream",
     "text": [
      "1\n"
     ]
    }
   ],
   "source": [
    "li = [int(x) for x in input().split()]\n",
    "\n",
    "print(Task_A(li))"
   ]
  },
  {
   "cell_type": "markdown",
   "metadata": {},
   "source": [
    "## Задача B. Приближенный двоичный поиск"
   ]
  },
  {
   "cell_type": "markdown",
   "metadata": {},
   "source": [
    "![Условие задачи B](../Images_root/Homeworks/Homework_1/2.png)"
   ]
  },
  {
   "cell_type": "markdown",
   "metadata": {},
   "source": [
    "Решение:"
   ]
  },
  {
   "cell_type": "code",
   "execution_count": 11,
   "metadata": {},
   "outputs": [],
   "source": [
    "# O(logN)\n",
    "def left_binary_search(li:list, x):\n",
    "    left = -1\n",
    "    right = len(li) - 1\n",
    "\n",
    "    while left + 1 != right:\n",
    "        mid = (left + right) // 2\n",
    "\n",
    "        if li[mid] < x:\n",
    "            left = mid\n",
    "        else:\n",
    "            right = mid\n",
    "        \n",
    "    return right"
   ]
  },
  {
   "cell_type": "code",
   "execution_count": 21,
   "metadata": {},
   "outputs": [],
   "source": [
    "# O(K*logN)\n",
    "def Task_B(N: list, K: list):\n",
    "    for i in range(len(K)):\n",
    "        min_ind = left_binary_search(N, K[i])\n",
    "        if min_ind != 0:\n",
    "            min_el = min(N[min_ind], N[min_ind - 1])\n",
    "        else:\n",
    "            min_el = N[min_ind]\n",
    "        print(min_el)"
   ]
  },
  {
   "cell_type": "markdown",
   "metadata": {},
   "source": [
    "Проверка решения:"
   ]
  },
  {
   "cell_type": "code",
   "execution_count": 22,
   "metadata": {},
   "outputs": [
    {
     "name": "stdout",
     "output_type": "stream",
     "text": [
      "1\n",
      "3\n",
      "7\n",
      "1\n",
      "5\n"
     ]
    }
   ],
   "source": [
    "N = [1, 3, 5, 7, 9]\n",
    "K = [2, 4, 8, 1, 6]\n",
    "\n",
    "Task_B(N, K)"
   ]
  },
  {
   "cell_type": "markdown",
   "metadata": {},
   "source": [
    "## Задача C. Сложная жизнь коров"
   ]
  },
  {
   "cell_type": "markdown",
   "metadata": {},
   "source": [
    "![Условие задачи C](../Images_root/Homeworks/Homework_1/3.png)"
   ]
  },
  {
   "cell_type": "markdown",
   "metadata": {},
   "source": [
    "Решение:"
   ]
  },
  {
   "cell_type": "code",
   "execution_count": 1,
   "metadata": {},
   "outputs": [],
   "source": [
    "def can_store_cows(K, N, cords_stalls, desired_distance) -> bool:\n",
    "    prev_pos = cords_stalls[0]\n",
    "    count = 1\n",
    "    \n",
    "    for i in range(1, N):\n",
    "        if cords_stalls[i] - prev_pos >= desired_distance:\n",
    "            count += 1\n",
    "            prev_pos = cords_stalls[i]\n",
    "    \n",
    "    return count >= K"
   ]
  },
  {
   "cell_type": "code",
   "execution_count": 10,
   "metadata": {},
   "outputs": [],
   "source": [
    "def Task_C(N, K, cords_stalls):\n",
    "    \"\"\"\n",
    "    N: Количество стойл\n",
    "    K: Кол-во коров\n",
    "    cords_stalls: Координаты стойл\n",
    "    answers: Возможные ответы\n",
    "    \"\"\"\n",
    "\n",
    "    l = -1\n",
    "    r = cords_stalls[-1] - cords_stalls[0]\n",
    "\n",
    "    while l + 1 != r:\n",
    "        mid = (l + r) // 2\n",
    "        if can_store_cows(K, N, cords_stalls, mid):\n",
    "            l = mid\n",
    "        else:\n",
    "            r = mid\n",
    "    \n",
    "    return l"
   ]
  },
  {
   "cell_type": "markdown",
   "metadata": {},
   "source": [
    "Проверка решения:"
   ]
  },
  {
   "cell_type": "code",
   "execution_count": 11,
   "metadata": {},
   "outputs": [
    {
     "data": {
      "text/plain": [
       "9"
      ]
     },
     "execution_count": 11,
     "metadata": {},
     "output_type": "execute_result"
    }
   ],
   "source": [
    "Task_C(6, 3, [2, 5, 7, 11, 15, 20])"
   ]
  },
  {
   "cell_type": "markdown",
   "metadata": {},
   "source": [
    "## Задача D. Количество отрицательных в отсортированной матрице"
   ]
  },
  {
   "cell_type": "markdown",
   "metadata": {},
   "source": [
    "![Условие задачи D](../Images_root/Homeworks/Homework_1/4.png)"
   ]
  },
  {
   "cell_type": "code",
   "execution_count": 2,
   "metadata": {},
   "outputs": [],
   "source": [
    "import numpy as np"
   ]
  },
  {
   "cell_type": "markdown",
   "metadata": {},
   "source": [
    "Решение №1:"
   ]
  },
  {
   "cell_type": "code",
   "execution_count": 3,
   "metadata": {},
   "outputs": [],
   "source": [
    "# O(N^2)\n",
    "def Task_D(matrix):\n",
    "    # Кол-во отрицательных элементов\n",
    "    neg_nums = 0\n",
    "\n",
    "    for row in range(matrix.shape[0]):\n",
    "        for col in range(matrix.shape[1]):\n",
    "            if matrix[row][col] < 0:\n",
    "                neg_nums += 1\n",
    "    return neg_nums"
   ]
  },
  {
   "cell_type": "markdown",
   "metadata": {},
   "source": [
    "Проверка решения:"
   ]
  },
  {
   "cell_type": "code",
   "execution_count": 4,
   "metadata": {},
   "outputs": [
    {
     "data": {
      "text/plain": [
       "8"
      ]
     },
     "execution_count": 4,
     "metadata": {},
     "output_type": "execute_result"
    }
   ],
   "source": [
    "matrix = np.array([[4,3,2,-1], [3,2,1,-1], [1,1,-1,-2], [-1,-1,-2,-3]])\n",
    "Task_D(matrix)"
   ]
  },
  {
   "cell_type": "code",
   "execution_count": 6,
   "metadata": {},
   "outputs": [
    {
     "data": {
      "text/plain": [
       "0"
      ]
     },
     "execution_count": 6,
     "metadata": {},
     "output_type": "execute_result"
    }
   ],
   "source": [
    "matrix = np.array([[3,2,1], [2,1,0]])\n",
    "Task_D(matrix)"
   ]
  },
  {
   "cell_type": "markdown",
   "metadata": {},
   "source": [
    "## Задача E. Сколько колонок нужно убрать (полный перебор)"
   ]
  },
  {
   "cell_type": "markdown",
   "metadata": {},
   "source": [
    "![Условие задачи E](../Images_root/Homeworks/Homework_1/5.png)"
   ]
  },
  {
   "cell_type": "markdown",
   "metadata": {},
   "source": [
    "Решение:"
   ]
  },
  {
   "cell_type": "code",
   "execution_count": 13,
   "metadata": {},
   "outputs": [],
   "source": [
    "def transform_letter_to_number(letter: str) -> int:\n",
    "    return ord(letter)\n"
   ]
  },
  {
   "cell_type": "code",
   "execution_count": 26,
   "metadata": {},
   "outputs": [],
   "source": [
    "# O(N^2)\n",
    "def Task_E(li: list) -> int:\n",
    "    answer = 0\n",
    "    for col in range(len(li[0])):\n",
    "        for row in range(len(li)):\n",
    "            if row < len(li)-1:\n",
    "                if transform_letter_to_number(li[row][col]) > transform_letter_to_number(li[row+1][col]):\n",
    "                    answer += 1\n",
    "                    break\n",
    "    return answer"
   ]
  },
  {
   "cell_type": "markdown",
   "metadata": {},
   "source": [
    "Проверка решения:"
   ]
  },
  {
   "cell_type": "code",
   "execution_count": 27,
   "metadata": {},
   "outputs": [
    {
     "data": {
      "text/plain": [
       "2"
      ]
     },
     "execution_count": 27,
     "metadata": {},
     "output_type": "execute_result"
    }
   ],
   "source": [
    "li = [['d','b','a'], ['c','a','f'], ['g','h','i']]\n",
    "\n",
    "Task_E(li)"
   ]
  },
  {
   "cell_type": "code",
   "execution_count": 28,
   "metadata": {},
   "outputs": [
    {
     "data": {
      "text/plain": [
       "0"
      ]
     },
     "execution_count": 28,
     "metadata": {},
     "output_type": "execute_result"
    }
   ],
   "source": [
    "li = [['a'], ['b']]\n",
    "\n",
    "Task_E(li)"
   ]
  }
 ],
 "metadata": {
  "kernelspec": {
   "display_name": "Python 3",
   "language": "python",
   "name": "python3"
  },
  "language_info": {
   "codemirror_mode": {
    "name": "ipython",
    "version": 3
   },
   "file_extension": ".py",
   "mimetype": "text/x-python",
   "name": "python",
   "nbconvert_exporter": "python",
   "pygments_lexer": "ipython3",
   "version": "3.10.5"
  }
 },
 "nbformat": 4,
 "nbformat_minor": 2
}
