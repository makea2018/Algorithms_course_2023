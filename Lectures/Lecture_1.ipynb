{
 "cells": [
  {
   "cell_type": "markdown",
   "metadata": {},
   "source": [
    "# Сложность алгоритмов"
   ]
  },
  {
   "cell_type": "markdown",
   "metadata": {},
   "source": [
    "Оценка сложности алгоритмов\n",
    "* Количество элементарных операции (для больших данных)\n",
    "* Задействование памяти  \n",
    "Оценка сложности алгоритмов оценивается с помощью O() большого\n",
    "----\n",
    "Пример:  \n",
    "1. $F_1$(N) = 2 $N^2$ + 10N + 1 => O($N^2$)\n",
    "2. $F_2$(N) = 1000N => O(N)"
   ]
  },
  {
   "cell_type": "markdown",
   "metadata": {},
   "source": [
    "## Основные сложности алгоритмов"
   ]
  },
  {
   "cell_type": "markdown",
   "metadata": {},
   "source": [
    "+ Константная - O(1)\n",
    "+ Линейная - O(N)\n",
    "+ Логарифмическая - O($log_2$ N)\n",
    "+ Линеарифметическая или линеаризованная - O(N*$log_2$ N)\n",
    "+ Квадратичная - O($N^2$)"
   ]
  },
  {
   "cell_type": "markdown",
   "metadata": {},
   "source": [
    "# Алгоритмы поисков"
   ]
  },
  {
   "cell_type": "markdown",
   "metadata": {},
   "source": [
    "## Линейный поиск"
   ]
  },
  {
   "cell_type": "markdown",
   "metadata": {},
   "source": [
    "В линейном поиске мы проходим по всем элементам и ищем элемент, удовлетворяющий нашим условиям"
   ]
  },
  {
   "cell_type": "code",
   "execution_count": 3,
   "metadata": {},
   "outputs": [
    {
     "name": "stdout",
     "output_type": "stream",
     "text": [
      "2\n"
     ]
    }
   ],
   "source": [
    "a = [1, 13, 2, -2]\n",
    "x = 2\n",
    "indx = -1\n",
    "for i in range(len(a)):\n",
    "    if a[i] == x:\n",
    "        indx = i\n",
    "        break\n",
    "print(indx)"
   ]
  },
  {
   "cell_type": "markdown",
   "metadata": {},
   "source": [
    "**Вывод**: Линейный поиск в худшем случае имеет сложность O(N)"
   ]
  },
  {
   "cell_type": "markdown",
   "metadata": {},
   "source": [
    "## Бинарный поиск"
   ]
  },
  {
   "cell_type": "markdown",
   "metadata": {},
   "source": [
    "Требования к бинарному поиску:\n",
    "+ Список должен быть отсортирован"
   ]
  },
  {
   "cell_type": "markdown",
   "metadata": {},
   "source": [
    "Логика бинарного поиска представлена на рисунке ниже:"
   ]
  },
  {
   "cell_type": "markdown",
   "metadata": {},
   "source": [
    "![Схема реализация бинарного поиска](../Images_root/Lectures/Lecture_1/1.jpg)"
   ]
  },
  {
   "cell_type": "code",
   "execution_count": 1,
   "metadata": {},
   "outputs": [],
   "source": [
    "# Реализация в коде\n",
    "def binary_searching(li:list, find_el:int):\n",
    "    # Сортируем массив\n",
    "    li = sorted(li)\n",
    "\n",
    "    low = 0\n",
    "    high = len(li) - 1\n",
    "    \n",
    "    while low <= high:\n",
    "        mid = (low + high) // 2\n",
    "        guess = li[mid]\n",
    "\n",
    "        if guess == find_el:\n",
    "            return mid\n",
    "        elif guess > find_el:\n",
    "            high = mid - 1\n",
    "        elif guess < find_el:\n",
    "            low = mid + 1\n",
    "    \n",
    "    # Значения не существует\n",
    "    return None"
   ]
  },
  {
   "cell_type": "code",
   "execution_count": 2,
   "metadata": {},
   "outputs": [
    {
     "name": "stdout",
     "output_type": "stream",
     "text": [
      "3\n",
      "None\n",
      "3\n"
     ]
    }
   ],
   "source": [
    "a = [1, 2, 2, 2, 3, 4, 5]\n",
    "b = [12, -4, 144, 56, 1, -10]\n",
    "\n",
    "print(binary_searching(b, 12))\n",
    "print(binary_searching(b, 1000))\n",
    "print(binary_searching(a, 2))\n"
   ]
  },
  {
   "cell_type": "markdown",
   "metadata": {},
   "source": [
    "## Реализация левого бинарного поиска и правого бинарного поиска"
   ]
  },
  {
   "cell_type": "markdown",
   "metadata": {},
   "source": [
    "Левый бинарный поиск - в массиве существует несколько элементов, удовлетворяющих искомому элементу. Так вот первый попавшийся элемент будет расположен левее остальных элементов.  \n",
    "*Пример*: a = [1, 2, 2, 2, 4]; x = 2\n",
    "left_binary_searching(a, x) выдаст ответ index = 1."
   ]
  },
  {
   "cell_type": "markdown",
   "metadata": {},
   "source": [
    "Правый бинарный поиск - в массиве существует несколько элементов, удовлетворяющих искомому элементу. Так вот первый попавшийся элемент будет расположен правее остальных элементов.  \n",
    "*Пример*: a = [1, 2, 2, 2, 4]; x = 2\n",
    "left_binary_searching(a, x) выдаст ответ index = 3."
   ]
  },
  {
   "cell_type": "code",
   "execution_count": 6,
   "metadata": {},
   "outputs": [],
   "source": [
    "#O(logN)\n",
    "def left_binary_search(li, x):\n",
    "    left = -1\n",
    "    right = len(li) - 1\n",
    "\n",
    "    while left + 1 != right:\n",
    "        mid = (left + right) // 2\n",
    "\n",
    "        if li[mid] < x:\n",
    "            left = mid\n",
    "        else:\n",
    "            right = mid\n",
    "        return right"
   ]
  },
  {
   "cell_type": "code",
   "execution_count": 7,
   "metadata": {},
   "outputs": [],
   "source": [
    "def right_binary_search(li, x):\n",
    "    left = 0\n",
    "    right = len(li)\n",
    "\n",
    "    while left +1 != right:\n",
    "        mid = (left + right) // 2\n",
    "\n",
    "        if li[mid] > x:\n",
    "            right = mid\n",
    "        else:\n",
    "            left = mid\n",
    "    return left"
   ]
  },
  {
   "cell_type": "code",
   "execution_count": 12,
   "metadata": {},
   "outputs": [
    {
     "name": "stdout",
     "output_type": "stream",
     "text": [
      "При левом бин. поиске первый попавшийся элемент 20 имеет индекс = 9\n",
      "При правом бин. поиске первый попавшийся элемент 20 имеет индекс = 7\n"
     ]
    }
   ],
   "source": [
    "a = [1, 3, 20, 20, 20, 23, 23, 23, 27, 30]\n",
    "x = 23\n",
    "print(f\"При левом бин. поиске первый попавшийся элемент 20 имеет индекс = {left_binary_search(a, x)}\")\n",
    "print(f\"При правом бин. поиске первый попавшийся элемент 20 имеет индекс = {right_binary_search(a, x)}\")"
   ]
  },
  {
   "cell_type": "markdown",
   "metadata": {},
   "source": [
    "# Алгоритмы сортировок"
   ]
  },
  {
   "cell_type": "markdown",
   "metadata": {},
   "source": [
    "## Сортировка пузырьком"
   ]
  },
  {
   "cell_type": "markdown",
   "metadata": {},
   "source": [
    "Логика сортировки методом пузырька представлена на рисунке ниже:"
   ]
  },
  {
   "cell_type": "markdown",
   "metadata": {},
   "source": [
    "![Логика сортировки пузырьком](../Images_root/Lectures/Lecture_1/2.jpg)"
   ]
  },
  {
   "cell_type": "code",
   "execution_count": 24,
   "metadata": {},
   "outputs": [],
   "source": [
    "# O(N^2)\n",
    "def BubleSort(li:list):\n",
    "    for i in range(len(li)):\n",
    "        for i in range(len(li) - 1):\n",
    "            if li[i] > li[i+1]:\n",
    "                li[i], li[i+1] = li[i+1], li[i]\n",
    "    return li"
   ]
  },
  {
   "cell_type": "code",
   "execution_count": 25,
   "metadata": {},
   "outputs": [
    {
     "data": {
      "text/plain": [
       "[1, 2, 5, 10]"
      ]
     },
     "execution_count": 25,
     "metadata": {},
     "output_type": "execute_result"
    }
   ],
   "source": [
    "a = [5, 2, 10, 1]\n",
    "BubleSort(a)"
   ]
  },
  {
   "cell_type": "code",
   "execution_count": 18,
   "metadata": {},
   "outputs": [
    {
     "data": {
      "text/plain": [
       "[-6, -1, 1, 12, 20]"
      ]
     },
     "execution_count": 18,
     "metadata": {},
     "output_type": "execute_result"
    }
   ],
   "source": [
    "a = [1, -1, 12, -6, 20]\n",
    "BubleSort(a)"
   ]
  },
  {
   "cell_type": "markdown",
   "metadata": {},
   "source": [
    "## Сортировка полным перебором"
   ]
  },
  {
   "cell_type": "code",
   "execution_count": 19,
   "metadata": {},
   "outputs": [
    {
     "name": "stdout",
     "output_type": "stream",
     "text": [
      "199\n"
     ]
    }
   ],
   "source": [
    "# O(N^2)\n",
    "# Найдем макс сумму двух элементов массива\n",
    "a = [20, 10, 1, 5, 6, 20, 100, 99, 3]\n",
    "max_sum = 0\n",
    "for i in range(len(a)):\n",
    "    for j in range(i + 1, len(a)):\n",
    "        if a[i] + a[j] > max_sum:\n",
    "            max_sum = a[i] + a[j]\n",
    "\n",
    "print(max_sum)"
   ]
  },
  {
   "cell_type": "code",
   "execution_count": 20,
   "metadata": {},
   "outputs": [
    {
     "name": "stdout",
     "output_type": "stream",
     "text": [
      "199\n"
     ]
    }
   ],
   "source": [
    "# O(N)\n",
    "a = [20, 10, 1, 5, 6, 20, 100, 99, 3]\n",
    "m, sm = 0, 0\n",
    "for i in a:\n",
    "    if i > m:\n",
    "        sm = m\n",
    "        m = i\n",
    "    elif i > sm:\n",
    "        sm = i\n",
    "\n",
    "print(m + sm)"
   ]
  }
 ],
 "metadata": {
  "kernelspec": {
   "display_name": "Python 3",
   "language": "python",
   "name": "python3"
  },
  "language_info": {
   "codemirror_mode": {
    "name": "ipython",
    "version": 3
   },
   "file_extension": ".py",
   "mimetype": "text/x-python",
   "name": "python",
   "nbconvert_exporter": "python",
   "pygments_lexer": "ipython3",
   "version": "3.10.5"
  },
  "orig_nbformat": 4
 },
 "nbformat": 4,
 "nbformat_minor": 2
}
