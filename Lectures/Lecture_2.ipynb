{
 "cells": [
  {
   "cell_type": "markdown",
   "metadata": {},
   "source": [
    "# Лекция №2 - Жадные алгоритмы"
   ]
  },
  {
   "cell_type": "markdown",
   "metadata": {},
   "source": [
    "**Жадный алгоритм** - алгоритм, заключающийся в принятии локально оптимальных решений на каждом этапе, допуская, что конечное решение также окажется оптимальным.\n",
    "  \n",
    "Жадные алгоритмы часто рассматриваются вместе с алгоритмами динамического программирования, которые будут обсуждаться позже, так как жадные алгоритмы работают не всегда."
   ]
  },
  {
   "cell_type": "markdown",
   "metadata": {},
   "source": [
    "## Принцип жадного алгоритма (//выбора)"
   ]
  },
  {
   "cell_type": "markdown",
   "metadata": {},
   "source": [
    "Говорят, что к оптимизационной задаче применим принцип жадного выбора, если последовательность локально оптимальных выборов дает глобально правильное решение. В типичном случае доказательство оптимальности следует такой схеме:\n",
    "  \n",
    "1. Доказывается, что жадный выбор на первом шаге не закрывает пути к оптимальному решению: для всякого решения есть другое, согласованное с жадным выбором и не хуже первого;\n",
    "2. Показывается, что подзадача, возникающая после жадного выбора на первом шаге, аналогична исходной;\n",
    "3. Рассуждение завершается по индукции."
   ]
  },
  {
   "cell_type": "markdown",
   "metadata": {},
   "source": [
    "# Примеры"
   ]
  },
  {
   "cell_type": "markdown",
   "metadata": {},
   "source": [
    "## Пример 1"
   ]
  },
  {
   "cell_type": "markdown",
   "metadata": {},
   "source": [
    "С консоли подается натуральное число. Необходимо из цифр данного числа составить наибольшее возможное число.\n",
    "\n",
    "Ввод: 12345  \n",
    "Вывод: 54321  \n",
    "\n",
    "Ввод: 310978  \n",
    "Вывод: 987310  "
   ]
  },
  {
   "cell_type": "code",
   "execution_count": 1,
   "metadata": {},
   "outputs": [
    {
     "data": {
      "text/plain": [
       "'54321'"
      ]
     },
     "execution_count": 1,
     "metadata": {},
     "output_type": "execute_result"
    }
   ],
   "source": [
    "# O(NlogN)\n",
    "digits = sorted([int(x) for x in list(input())], reverse=True)\n",
    "res = ''.join([str(x) for x in digits])\n",
    "res"
   ]
  },
  {
   "cell_type": "markdown",
   "metadata": {},
   "source": [
    "## Пример 2"
   ]
  },
  {
   "cell_type": "markdown",
   "metadata": {},
   "source": [
    "Пусть монетная система некоторого государства состоит из монет $a_1 = 1 < a_2 < a_3...< a_n$. Требуется выдать сумму S наименьшим возможным количеством монет."
   ]
  },
  {
   "cell_type": "markdown",
   "metadata": {},
   "source": [
    "Ввод: 1 50 100  \n",
    "Необходимо выдать: 152  \n",
    "\n",
    "Вывод: 4"
   ]
  },
  {
   "cell_type": "code",
   "execution_count": 2,
   "metadata": {},
   "outputs": [
    {
     "name": "stdout",
     "output_type": "stream",
     "text": [
      "4\n"
     ]
    }
   ],
   "source": [
    "# O(N)\n",
    "a = [int(i) for i in input().split()]\n",
    "Sum = int(input())\n",
    "count = 0\n",
    "\n",
    "for i in range(len(a)-1, -1, -1):\n",
    "    count += Sum // a[i]\n",
    "    Sum = Sum % a[i]\n",
    "\n",
    "print(count)"
   ]
  },
  {
   "cell_type": "markdown",
   "metadata": {},
   "source": [
    "## Пример 3"
   ]
  },
  {
   "cell_type": "markdown",
   "metadata": {},
   "source": [
    "Системный администратор выдает доступы для архивов пользователей. У нас есть S - размер свободного места на диске и N - количество пользователей. Далее идут N запросов на предоставление места на диске. Определить, какому максимальному количеству человек мы сможем предоставить доступ.  \n",
    "  \n",
    "$a_1 <= a_2 <= a_3 <= a_4 <= ... a_n$  \n",
    "  \n",
    "Ввод:  \n",
    "100 4  \n",
    "80 30 50 40  \n",
    "Вывод:  \n",
    "2"
   ]
  },
  {
   "cell_type": "code",
   "execution_count": 3,
   "metadata": {},
   "outputs": [
    {
     "name": "stdout",
     "output_type": "stream",
     "text": [
      "2\n"
     ]
    }
   ],
   "source": [
    "S, N = [int(x) for x in input().split()]\n",
    "a = sorted([int(x) for x in input().split()])\n",
    "\n",
    "count = 0\n",
    "Scur = 0\n",
    "\n",
    "i = 0\n",
    "while i < len(a):\n",
    "    if Scur + a[i] < S:\n",
    "        Scur += a[i]\n",
    "        count += 1\n",
    "    i += 1\n",
    "print(count)"
   ]
  }
 ],
 "metadata": {
  "kernelspec": {
   "display_name": "Python 3",
   "language": "python",
   "name": "python3"
  },
  "language_info": {
   "codemirror_mode": {
    "name": "ipython",
    "version": 3
   },
   "file_extension": ".py",
   "mimetype": "text/x-python",
   "name": "python",
   "nbconvert_exporter": "python",
   "pygments_lexer": "ipython3",
   "version": "3.10.5"
  },
  "orig_nbformat": 4
 },
 "nbformat": 4,
 "nbformat_minor": 2
}
