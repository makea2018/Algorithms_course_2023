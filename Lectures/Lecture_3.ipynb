{
 "cells": [
  {
   "cell_type": "markdown",
   "metadata": {},
   "source": [
    "# Лекция №3 - Динамическое программирование (одномерная динамика)"
   ]
  },
  {
   "cell_type": "markdown",
   "metadata": {},
   "source": [
    "**Одномерная динамика** - означает, что при решении задач будут использоваться одномерные структуры. Например, одномерный список."
   ]
  },
  {
   "cell_type": "markdown",
   "metadata": {},
   "source": [
    "## Определения динамического программирования"
   ]
  },
  {
   "cell_type": "markdown",
   "metadata": {},
   "source": [
    "### Определение №1 - официальное"
   ]
  },
  {
   "cell_type": "markdown",
   "metadata": {},
   "source": [
    "\n",
    "**Динамическое программирование** - способ решения сложных задач путем разбиения их на простые задачи."
   ]
  },
  {
   "cell_type": "markdown",
   "metadata": {},
   "source": [
    "### Определение №2 - Описывает суть динамического программирования"
   ]
  },
  {
   "cell_type": "markdown",
   "metadata": {},
   "source": [
    "\n",
    "**Динамическое программирование** - это когда у нас есть одна большая задача, которую не понятно как решать. И мы ее разбиваем на более мелкие задачи, которые тоже не знаем как решать."
   ]
  },
  {
   "cell_type": "markdown",
   "metadata": {},
   "source": [
    "## Примеры"
   ]
  },
  {
   "cell_type": "markdown",
   "metadata": {},
   "source": [
    "### Пример №1"
   ]
  },
  {
   "cell_type": "markdown",
   "metadata": {},
   "source": [
    "Числа Фибоначи\n",
    "$F_0, F_1, F_n = F_{n-1} + F_{n-2}, n \\geq 2$  \n",
    "  \n",
    "Необходимо вывести число Фибоначи с номером n"
   ]
  },
  {
   "cell_type": "code",
   "execution_count": 4,
   "metadata": {},
   "outputs": [
    {
     "name": "stdout",
     "output_type": "stream",
     "text": [
      "8\n"
     ]
    }
   ],
   "source": [
    "# O(n)\n",
    "n = int(input())\n",
    "f = [0] * (n + 1) #f[i] - i-ое число Фибоначи\n",
    "f[1] = 1\n",
    "for i in range(2, n+1):\n",
    "    f[i] = f[i-1] + f[i-2]\n",
    "\n",
    "print(f[n])"
   ]
  },
  {
   "cell_type": "markdown",
   "metadata": {},
   "source": [
    "### Пример №2"
   ]
  },
  {
   "cell_type": "markdown",
   "metadata": {},
   "source": [
    "**Задача про Кузнечика**: Кузнечик прыгает по ступенькам. Максимум может перепрыгнуть 2 ступеньки за раз. Сколько вариантов есть у кузнечика, чтобы допрыгнуть до 5 ступеньки?\n",
    "  \n",
    "Ответ: 8\n",
    "  \n",
    "![Суть задачи про кузнечика](../Images_root/Lectures/Lecture_3/1.png)"
   ]
  },
  {
   "cell_type": "code",
   "execution_count": 5,
   "metadata": {},
   "outputs": [
    {
     "name": "stdout",
     "output_type": "stream",
     "text": [
      "8\n"
     ]
    }
   ],
   "source": [
    "# O(n)\n",
    "n = int(input())\n",
    "vars = [1] * (n + 1)\n",
    "\n",
    "for i in range(2, n + 1):\n",
    "    vars[i] = vars[i - 1] + vars[i - 2]\n",
    "\n",
    "print(vars[n])"
   ]
  },
  {
   "cell_type": "markdown",
   "metadata": {},
   "source": [
    "### Пример №3"
   ]
  },
  {
   "cell_type": "markdown",
   "metadata": {},
   "source": [
    "**Задача про лестницу со стоимостями**: Человек идет по ступенькам. Максимум может переступить через 2 ступеньки за раз. У каждой ступеньки своя стоимость. Определить с какой минимальной стоимостью можно дойти до 3-ой ступеньки? Если стоимости ступенек = 1 3 1\n",
    "  \n",
    "Ответ: 2\n",
    "  \n",
    "![Суть задачи про лестницу со стоимостями для каждой ступеньки](../Images_root/Lectures/Lecture_3/2.png)"
   ]
  },
  {
   "cell_type": "code",
   "execution_count": 10,
   "metadata": {},
   "outputs": [
    {
     "name": "stdout",
     "output_type": "stream",
     "text": [
      "2\n"
     ]
    }
   ],
   "source": [
    "# O(n)\n",
    "n = int(input())\n",
    "costs = [int(x) for x in input().split()]\n",
    "\n",
    "m = [0] * n\n",
    "m[0], m[1] = costs[0], costs[1]\n",
    "\n",
    "for i in range(2, n):\n",
    "    m[i] = min(m[i - 1], m[i - 2] + costs[i])\n",
    "\n",
    "print(m[-1])"
   ]
  },
  {
   "cell_type": "markdown",
   "metadata": {},
   "source": [
    "### Пример №4"
   ]
  },
  {
   "cell_type": "markdown",
   "metadata": {},
   "source": [
    "Требуется подсчитать кол-во последовательностей длины N, состоящих из 0 и 1, в которых никакие две единицы не стоят рядом."
   ]
  },
  {
   "cell_type": "markdown",
   "metadata": {},
   "source": [
    "![Логика решения задачи](../Images_root/Lectures/Lecture_3/3.png)"
   ]
  },
  {
   "cell_type": "code",
   "execution_count": 3,
   "metadata": {},
   "outputs": [
    {
     "name": "stdout",
     "output_type": "stream",
     "text": [
      "13\n"
     ]
    }
   ],
   "source": [
    "# O(n)\n",
    "n = int(input())\n",
    "dp  = [0] * (n+1)\n",
    "dp[1] = 2\n",
    "dp[2] = 3\n",
    "\n",
    "for i in range(3, n+1):\n",
    "    dp[i] = dp[i-1] + dp[i-2]\n",
    "\n",
    "print(dp[n])"
   ]
  },
  {
   "cell_type": "markdown",
   "metadata": {},
   "source": [
    "### Пример №5"
   ]
  },
  {
   "cell_type": "markdown",
   "metadata": {},
   "source": [
    "Имеется калькулятор, который выполняет три операции:\n",
    "- Прибавить к числу X единицу.\n",
    "- Умножить число Х на 2.\n",
    "- Умножить число Х на 3.\n",
    "  \n",
    "Определите, какое наименьшее число операций необходимо для того, чтобы получить из числа 1 заданное число N."
   ]
  },
  {
   "cell_type": "code",
   "execution_count": 6,
   "metadata": {},
   "outputs": [
    {
     "name": "stdout",
     "output_type": "stream",
     "text": [
      "17\n"
     ]
    }
   ],
   "source": [
    "# O(n)\n",
    "n = int(input())\n",
    "dp = [0] * (n + 1)\n",
    "dp[2], dp[3] = 1, 1\n",
    "for i in range(4, n + 1):\n",
    "    if i % 2 == 0 and i % 3 == 0:\n",
    "        dp[i] = min(dp[i - 1], dp[i // 2], dp[i // 3]) + 1\n",
    "    elif i % 2 == 0 and i % 3 != 0:\n",
    "        dp[i] = min(dp[i - 1], dp[i // 2]) + 1\n",
    "    elif i % 2 != 0 and i % 3 == 0:\n",
    "        dp[i] = min(dp[i - 1], dp[i // 3]) + 1\n",
    "    else:\n",
    "        dp[i] = dp[i - 1] + 1\n",
    "\n",
    "print(dp[n])"
   ]
  }
 ],
 "metadata": {
  "kernelspec": {
   "display_name": "Python 3",
   "language": "python",
   "name": "python3"
  },
  "language_info": {
   "codemirror_mode": {
    "name": "ipython",
    "version": 3
   },
   "file_extension": ".py",
   "mimetype": "text/x-python",
   "name": "python",
   "nbconvert_exporter": "python",
   "pygments_lexer": "ipython3",
   "version": "3.10.5"
  },
  "orig_nbformat": 4
 },
 "nbformat": 4,
 "nbformat_minor": 2
}
